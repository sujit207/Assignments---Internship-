{
 "cells": [
  {
   "cell_type": "markdown",
   "metadata": {},
   "source": [
    "# Problem 4 "
   ]
  },
  {
   "cell_type": "raw",
   "metadata": {},
   "source": [
    "4. Write a python program to scrap book name, author name, genre and book review of any 5 books from\n",
    "‘www.bookpage.com’\n"
   ]
  },
  {
   "cell_type": "code",
   "execution_count": 1,
   "metadata": {},
   "outputs": [],
   "source": [
    "# importing required libraries \n",
    "from selenium import webdriver\n",
    "from selenium.webdriver.common.keys import Keys\n",
    "import time\n",
    "from datetime import date\n",
    "from datetime import datetime\n",
    "import pandas as pd\n",
    "from selenium.webdriver.support.ui import Select \n",
    "from selenium.webdriver.common.by import By\n",
    "from selenium.webdriver.support.ui import WebDriverWait\n",
    "from selenium.webdriver.support import expected_conditions as EC\n",
    "import pandas as pd\n",
    "from bs4 import BeautifulSoup\n",
    "import requests\n"
   ]
  },
  {
   "cell_type": "code",
   "execution_count": 50,
   "metadata": {},
   "outputs": [],
   "source": [
    "# installing the chrome driver & URL to be scrapped \n",
    "driver= webdriver.Chrome(r\"C:\\Users\\arkay\\Downloads\\chromedriver_win32 (1)\\chromedriver.exe\")\n",
    "url='https://bookpage.com/'\n",
    "driver.get(url)\n",
    "driver.maximize_window()\n",
    "time.sleep(5)"
   ]
  },
  {
   "cell_type": "code",
   "execution_count": 51,
   "metadata": {},
   "outputs": [],
   "source": [
    "driver.find_element_by_xpath(\"/html/body/div[3]/div[2]/div/div[5]/a\").click()"
   ]
  },
  {
   "cell_type": "code",
   "execution_count": 52,
   "metadata": {},
   "outputs": [],
   "source": [
    "book=[]\n",
    "author=[]\n",
    "genre=[]\n",
    "review=[]"
   ]
  },
  {
   "cell_type": "code",
   "execution_count": 53,
   "metadata": {},
   "outputs": [],
   "source": [
    "b_tags=driver.find_elements_by_xpath(\"/html/body/div[3]/div[2]/div/div[2]/div[1]/div/div/div/div[2]/h4/a\")\n",
    "for i in b_tags:\n",
    "    dataset=i.text\n",
    "    book.append(dataset)\n",
    "a_tags=driver.find_elements_by_xpath(\"/html/body/div[3]/div[2]/div/div[2]/div[1]/div/div/div/div[2]/p[1]\")\n",
    "for i in b_tags:\n",
    "    dataset=i.text\n",
    "    author.append(dataset)\n",
    "g_tags=driver.find_elements_by_xpath(\"/html/body/div[3]/div[2]/div/div[2]/div[1]/div/div/div/div[2]/p[4]\")\n",
    "for i in b_tags:\n",
    "    dataset=i.text\n",
    "    genre.append(dataset)\n",
    "time.sleep(5)"
   ]
  },
  {
   "cell_type": "code",
   "execution_count": 54,
   "metadata": {},
   "outputs": [],
   "source": [
    "df_bookpage=pd.DataFrame()\n",
    "df_bookpage['Name Od The Book']=book\n",
    "df_bookpage['Author']=author\n",
    "df_bookpage['Genre']=genre"
   ]
  },
  {
   "cell_type": "code",
   "execution_count": 55,
   "metadata": {},
   "outputs": [
    {
     "data": {
      "text/html": [
       "<div>\n",
       "<style scoped>\n",
       "    .dataframe tbody tr th:only-of-type {\n",
       "        vertical-align: middle;\n",
       "    }\n",
       "\n",
       "    .dataframe tbody tr th {\n",
       "        vertical-align: top;\n",
       "    }\n",
       "\n",
       "    .dataframe thead th {\n",
       "        text-align: right;\n",
       "    }\n",
       "</style>\n",
       "<table border=\"1\" class=\"dataframe\">\n",
       "  <thead>\n",
       "    <tr style=\"text-align: right;\">\n",
       "      <th></th>\n",
       "      <th>Name Od The Book</th>\n",
       "      <th>Author</th>\n",
       "      <th>Genre</th>\n",
       "    </tr>\n",
       "  </thead>\n",
       "  <tbody>\n",
       "  </tbody>\n",
       "</table>\n",
       "</div>"
      ],
      "text/plain": [
       "Empty DataFrame\n",
       "Columns: [Name Od The Book, Author, Genre]\n",
       "Index: []"
      ]
     },
     "execution_count": 55,
     "metadata": {},
     "output_type": "execute_result"
    }
   ],
   "source": [
    "df_bookpage.head()"
   ]
  },
  {
   "cell_type": "markdown",
   "metadata": {},
   "source": [
    "# Problem 7"
   ]
  },
  {
   "cell_type": "raw",
   "metadata": {},
   "source": [
    "7. Write a python program to scrape details of all the mobile phones under Rs. 20,000 listed on Amazon.in. The\n",
    "scraped data should include Product Name, Price, Image URL and Average Rating.\n"
   ]
  },
  {
   "cell_type": "code",
   "execution_count": 58,
   "metadata": {},
   "outputs": [],
   "source": [
    "driver= webdriver.Chrome(r\"C:\\Users\\arkay\\Downloads\\chromedriver_win32 (1)\\chromedriver.exe\")\n",
    "url='https://www.amazon.in/s?k=mobile+phones+under+20000&rh=n%3A1389432031&dc&qid=1604132579&rnid=3576079031&ref=sr_nr_n_1'\n",
    "driver.get(url)\n",
    "driver.maximize_window()\n",
    "time.sleep(5)"
   ]
  },
  {
   "cell_type": "code",
   "execution_count": 59,
   "metadata": {},
   "outputs": [],
   "source": [
    "urls = []\n",
    "name=[]\n",
    "price=[]\n",
    "image=[]\n",
    "rating=[]\n",
    "#loop to fetch urls of each mobile till page 5\n",
    "for page in range(0,5):\n",
    "    driver.get(url)\n",
    "    soup= BeautifulSoup(driver.page_source, 'html.parser')\n",
    "    prod_urls = soup.find_all('a', attrs ={'class':'a-link-normal a-text-normal'})\n",
    "    for prod in prod_urls:\n",
    "        urls.append('https://www.amazon.in'+prod.get('href'))\n",
    "for url in urls:\n",
    "    driver.get(url)\n",
    "    soup = BeautifulSoup(driver.page_source, 'html.parser')\n",
    "    n = soup.find('h1',attrs={'id':'title'})\n",
    "    if n is not None:\n",
    "        name.append(n.find('span').text.replace('\\n',''))\n",
    "    else:\n",
    "        name.append('-')\n",
    "    rat = soup.find('div', attrs = {'id':'averageCustomerReviews'})\n",
    "    if rat is not None:\n",
    "        rating.append(rat.find('i').find('span').text)\n",
    "    else:\n",
    "        rating.append('-')\n",
    "    p = soup.find('span', attrs = {'class':'a-size-medium a-color-price priceBlockDealPriceString'})\n",
    "    if p is not None:\n",
    "        price.append(p.text[2:])\n",
    "    else:\n",
    "        p = soup.find('div', attrs = {'id':'price'})\n",
    "        if p is not None:\n",
    "            price.append(p.find('span').text[2:])\n",
    "        else:\n",
    "            price.append('-')\n",
    "    img = soup.find('div', attrs = {'class':'imgTagWrapper'})\n",
    "    if img is not None:\n",
    "        image.append(img.find('img').get('src'))\n",
    "    else:\n",
    "        image.append('-')\n"
   ]
  },
  {
   "cell_type": "code",
   "execution_count": 62,
   "metadata": {},
   "outputs": [],
   "source": [
    "df_mobile=pd.DataFrame({'Name':name,'Price':price,'Rating':rating,'Image_link':image})"
   ]
  },
  {
   "cell_type": "code",
   "execution_count": 63,
   "metadata": {
    "scrolled": true
   },
   "outputs": [
    {
     "data": {
      "text/html": [
       "<div>\n",
       "<style scoped>\n",
       "    .dataframe tbody tr th:only-of-type {\n",
       "        vertical-align: middle;\n",
       "    }\n",
       "\n",
       "    .dataframe tbody tr th {\n",
       "        vertical-align: top;\n",
       "    }\n",
       "\n",
       "    .dataframe thead th {\n",
       "        text-align: right;\n",
       "    }\n",
       "</style>\n",
       "<table border=\"1\" class=\"dataframe\">\n",
       "  <thead>\n",
       "    <tr style=\"text-align: right;\">\n",
       "      <th></th>\n",
       "      <th>Name</th>\n",
       "      <th>Price</th>\n",
       "      <th>Rating</th>\n",
       "      <th>Image_link</th>\n",
       "    </tr>\n",
       "  </thead>\n",
       "  <tbody>\n",
       "    <tr>\n",
       "      <th>0</th>\n",
       "      <td>Redmi 8A Dual (Sea Blue, 3GB RAM, 32GB Storage...</td>\n",
       "      <td>7,999.00</td>\n",
       "      <td>4.0 out of 5 stars</td>\n",
       "      <td>\\ndata:image/webp;base64,UklGRpIQAABXRUJQVlA4I...</td>\n",
       "    </tr>\n",
       "    <tr>\n",
       "      <th>1</th>\n",
       "      <td>Samsung Galaxy M21 (Midnight Blue, 4GB RAM, 64...</td>\n",
       "      <td>13,999.00</td>\n",
       "      <td>4.2 out of 5 stars</td>\n",
       "      <td>\\ndata:image/webp;base64,UklGRgoWAABXRUJQVlA4I...</td>\n",
       "    </tr>\n",
       "    <tr>\n",
       "      <th>2</th>\n",
       "      <td>Samsung Galaxy M31 (Ocean Blue, 6GB RAM, 128GB...</td>\n",
       "      <td>16,499.00</td>\n",
       "      <td>4.2 out of 5 stars</td>\n",
       "      <td>\\ndata:image/webp;base64,UklGRiwaAABXRUJQVlA4I...</td>\n",
       "    </tr>\n",
       "    <tr>\n",
       "      <th>3</th>\n",
       "      <td>Samsung Galaxy M01 (Blue, 3GB RAM, 32GB Storag...</td>\n",
       "      <td>9,999.00</td>\n",
       "      <td>3.9 out of 5 stars</td>\n",
       "      <td>https://images-na.ssl-images-amazon.com/images...</td>\n",
       "    </tr>\n",
       "    <tr>\n",
       "      <th>4</th>\n",
       "      <td>Redmi 8A Dual (Midnight Grey, 3GB RAM, 64GB St...</td>\n",
       "      <td>9,999.00</td>\n",
       "      <td>4.0 out of 5 stars</td>\n",
       "      <td>https://images-na.ssl-images-amazon.com/images...</td>\n",
       "    </tr>\n",
       "  </tbody>\n",
       "</table>\n",
       "</div>"
      ],
      "text/plain": [
       "                                                Name      Price  \\\n",
       "0  Redmi 8A Dual (Sea Blue, 3GB RAM, 32GB Storage...   7,999.00   \n",
       "1  Samsung Galaxy M21 (Midnight Blue, 4GB RAM, 64...  13,999.00   \n",
       "2  Samsung Galaxy M31 (Ocean Blue, 6GB RAM, 128GB...  16,499.00   \n",
       "3  Samsung Galaxy M01 (Blue, 3GB RAM, 32GB Storag...   9,999.00   \n",
       "4  Redmi 8A Dual (Midnight Grey, 3GB RAM, 64GB St...   9,999.00   \n",
       "\n",
       "               Rating                                         Image_link  \n",
       "0  4.0 out of 5 stars  \\ndata:image/webp;base64,UklGRpIQAABXRUJQVlA4I...  \n",
       "1  4.2 out of 5 stars  \\ndata:image/webp;base64,UklGRgoWAABXRUJQVlA4I...  \n",
       "2  4.2 out of 5 stars  \\ndata:image/webp;base64,UklGRiwaAABXRUJQVlA4I...  \n",
       "3  3.9 out of 5 stars  https://images-na.ssl-images-amazon.com/images...  \n",
       "4  4.0 out of 5 stars  https://images-na.ssl-images-amazon.com/images...  "
      ]
     },
     "execution_count": 63,
     "metadata": {},
     "output_type": "execute_result"
    }
   ],
   "source": [
    "df_mobile.head()"
   ]
  },
  {
   "cell_type": "markdown",
   "metadata": {},
   "source": [
    "# Problem -9 "
   ]
  },
  {
   "cell_type": "raw",
   "metadata": {},
   "source": [
    "Write a python program to scrape ‘software developer’ job listings from ‘Monster.com’. It should include all\n",
    "the jobs listed for the next 5 pages. "
   ]
  },
  {
   "cell_type": "code",
   "execution_count": 46,
   "metadata": {},
   "outputs": [],
   "source": [
    "driver= webdriver.Chrome(r\"C:\\Users\\arkay\\Downloads\\chromedriver_win32 (1)\\chromedriver.exe\")\n",
    "url='https://www.monsterindia.com/trex/'\n",
    "driver.get(url)\n",
    "driver.maximize_window()\n",
    "time.sleep(5)"
   ]
  },
  {
   "cell_type": "code",
   "execution_count": 47,
   "metadata": {},
   "outputs": [],
   "source": [
    "driver.find_element_by_xpath(\"//*[@id='SE_home_autocomplete']\").send_keys('software developer')\n",
    "driver.find_element_by_xpath(\"//*[@id='searchForm']/div/div[2]/input\").click()"
   ]
  },
  {
   "cell_type": "code",
   "execution_count": 48,
   "metadata": {},
   "outputs": [],
   "source": [
    "company=[]\n",
    "location=[]\n",
    "title=[]\n",
    "skill=[]"
   ]
  },
  {
   "cell_type": "code",
   "execution_count": 49,
   "metadata": {},
   "outputs": [],
   "source": [
    "c_tags=driver.find_elements_by_xpath(\"//*[@id='srp-right-part']/div/div[1]/div[1]/div[2]/div/div/div/div[1]/div/div/span/a\")\n",
    "for i in c_tags:\n",
    "    try:\n",
    "        dataset=i.text\n",
    "    except:\n",
    "        dataset='Not Mentioned'\n",
    "        company.append(dataset)\n",
    "\n",
    "\n",
    "l_tags=driver.find_elements_by_xpath(\"//*[@id='srp-right-part']/div/div[1]/div[1]/div[2]/div/div/div/div[1]/div/div/div/div[1]/span/small\")\n",
    "for i in l_tags:\n",
    "    dataset=i.text\n",
    "    location.append(dataset)\n",
    "\n",
    "\n",
    "t_tags=driver.find_elements_by_xpath(\"//*[@id='srp-right-part']/div/div[1]/div[1]/div[2]/div/div/div/div[1]/div/div/h3/a\")\n",
    "for i in t_tags:\n",
    "    dataset=i.text\n",
    "    title.append(dataset)\n",
    "\n",
    "\n",
    "s_tags=driver.find_elements_by_xpath(\"//*[@id='srp-right-part']/div/div[1]/div[1]/div[2]/div/div/div/div[1]/div/p[2]\")\n",
    "for i in s_tags:\n",
    "    dataset=i.text\n",
    "    skill.append(dataset)\n",
    "    \n",
    "                                          \n"
   ]
  },
  {
   "cell_type": "code",
   "execution_count": 50,
   "metadata": {},
   "outputs": [],
   "source": [
    "df_monster=pd.DataFrame()\n",
    "df_monster['Job Title']=title\n",
    "df_monster['Location']=location\n",
    "df_monster['Key Skills']=skill\n"
   ]
  },
  {
   "cell_type": "code",
   "execution_count": 51,
   "metadata": {},
   "outputs": [
    {
     "data": {
      "text/html": [
       "<div>\n",
       "<style scoped>\n",
       "    .dataframe tbody tr th:only-of-type {\n",
       "        vertical-align: middle;\n",
       "    }\n",
       "\n",
       "    .dataframe tbody tr th {\n",
       "        vertical-align: top;\n",
       "    }\n",
       "\n",
       "    .dataframe thead th {\n",
       "        text-align: right;\n",
       "    }\n",
       "</style>\n",
       "<table border=\"1\" class=\"dataframe\">\n",
       "  <thead>\n",
       "    <tr style=\"text-align: right;\">\n",
       "      <th></th>\n",
       "      <th>Job Title</th>\n",
       "      <th>Location</th>\n",
       "      <th>Key Skills</th>\n",
       "    </tr>\n",
       "  </thead>\n",
       "  <tbody>\n",
       "    <tr>\n",
       "      <th>0</th>\n",
       "      <td>urgent hiring work from home job for (AWS Dev ...</td>\n",
       "      <td>Bengaluru / Bangalore, Delhi</td>\n",
       "      <td>Skills : Aws Cloud , Devops Engineer</td>\n",
       "    </tr>\n",
       "    <tr>\n",
       "      <th>1</th>\n",
       "      <td>Hiring \"Software Developer\" - Mumbai</td>\n",
       "      <td>Mumbai, Mumbai City</td>\n",
       "      <td>Skills : Php , Javascript , Sql , CSS , Dot Net</td>\n",
       "    </tr>\n",
       "    <tr>\n",
       "      <th>2</th>\n",
       "      <td>Software Developer</td>\n",
       "      <td>Thrissur</td>\n",
       "      <td>Skills : Software Developer</td>\n",
       "    </tr>\n",
       "    <tr>\n",
       "      <th>3</th>\n",
       "      <td>Software Developer AND SOFTWARE TESTING</td>\n",
       "      <td>Pune</td>\n",
       "      <td>Skills : Java developer , Dotnet , Php develop...</td>\n",
       "    </tr>\n",
       "    <tr>\n",
       "      <th>4</th>\n",
       "      <td>Senior Shopify Developer</td>\n",
       "      <td>Pune</td>\n",
       "      <td>Skills : \"Shopify Developer\" , \"Senior Shopify...</td>\n",
       "    </tr>\n",
       "  </tbody>\n",
       "</table>\n",
       "</div>"
      ],
      "text/plain": [
       "                                           Job Title  \\\n",
       "0  urgent hiring work from home job for (AWS Dev ...   \n",
       "1               Hiring \"Software Developer\" - Mumbai   \n",
       "2                                 Software Developer   \n",
       "3            Software Developer AND SOFTWARE TESTING   \n",
       "4                           Senior Shopify Developer   \n",
       "\n",
       "                       Location  \\\n",
       "0  Bengaluru / Bangalore, Delhi   \n",
       "1           Mumbai, Mumbai City   \n",
       "2                      Thrissur   \n",
       "3                          Pune   \n",
       "4                          Pune   \n",
       "\n",
       "                                          Key Skills  \n",
       "0               Skills : Aws Cloud , Devops Engineer  \n",
       "1    Skills : Php , Javascript , Sql , CSS , Dot Net  \n",
       "2                        Skills : Software Developer  \n",
       "3  Skills : Java developer , Dotnet , Php develop...  \n",
       "4  Skills : \"Shopify Developer\" , \"Senior Shopify...  "
      ]
     },
     "execution_count": 51,
     "metadata": {},
     "output_type": "execute_result"
    }
   ],
   "source": [
    "df_monster.head()"
   ]
  },
  {
   "cell_type": "code",
   "execution_count": null,
   "metadata": {},
   "outputs": [],
   "source": []
  }
 ],
 "metadata": {
  "kernelspec": {
   "display_name": "Python 3",
   "language": "python",
   "name": "python3"
  },
  "language_info": {
   "codemirror_mode": {
    "name": "ipython",
    "version": 3
   },
   "file_extension": ".py",
   "mimetype": "text/x-python",
   "name": "python",
   "nbconvert_exporter": "python",
   "pygments_lexer": "ipython3",
   "version": "3.7.6"
  }
 },
 "nbformat": 4,
 "nbformat_minor": 4
}
