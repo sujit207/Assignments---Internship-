{
 "cells": [
  {
   "cell_type": "code",
   "execution_count": 1,
   "metadata": {},
   "outputs": [],
   "source": [
    "import selenium\n",
    "import pandas as pd\n",
    "from selenium import webdriver\n",
    "from selenium.webdriver.common import keys\n",
    "from selenium.webdriver.common import by\n",
    "from selenium.webdriver.support.ui import WebDriverWait\n",
    "from selenium.webdriver.support import expected_conditions as EC\n",
    "import time"
   ]
  },
  {
   "cell_type": "markdown",
   "metadata": {},
   "source": [
    "# Q 1"
   ]
  },
  {
   "cell_type": "code",
   "execution_count": 2,
   "metadata": {},
   "outputs": [],
   "source": [
    "driver=webdriver.Chrome(r\"C:\\Users\\arkay\\Downloads\\chromedriver_win32 (1)\\chromedriver.exe\")"
   ]
  },
  {
   "cell_type": "code",
   "execution_count": 3,
   "metadata": {},
   "outputs": [],
   "source": [
    "url='https://www.naukri.com/data-analyst-jobs-in-bangalore?k=data%20analyst&l=bangalore'"
   ]
  },
  {
   "cell_type": "code",
   "execution_count": 4,
   "metadata": {},
   "outputs": [],
   "source": [
    "driver.get(url)"
   ]
  },
  {
   "cell_type": "code",
   "execution_count": 5,
   "metadata": {},
   "outputs": [],
   "source": [
    "job_titles=[]\n",
    "company_names=[]\n",
    "location_list=[]\n",
    "experience_list=[]"
   ]
  },
  {
   "cell_type": "code",
   "execution_count": 6,
   "metadata": {},
   "outputs": [
    {
     "data": {
      "text/plain": [
       "[<selenium.webdriver.remote.webelement.WebElement (session=\"db2f234b381342c65d93252dd24d4268\", element=\"1fe8f35e-bba4-45ab-87a5-9bc43654b03a\")>,\n",
       " <selenium.webdriver.remote.webelement.WebElement (session=\"db2f234b381342c65d93252dd24d4268\", element=\"9515a9bb-a307-445f-ad05-ea129a7accbc\")>,\n",
       " <selenium.webdriver.remote.webelement.WebElement (session=\"db2f234b381342c65d93252dd24d4268\", element=\"99db67c2-9418-43d7-aa5c-79128cb54b85\")>]"
      ]
     },
     "execution_count": 6,
     "metadata": {},
     "output_type": "execute_result"
    }
   ],
   "source": [
    "title_tags=driver.find_elements_by_xpath(\"//a[@class='title fw500 ellipsis']\")\n",
    "title_tags[0:3]"
   ]
  },
  {
   "cell_type": "code",
   "execution_count": 7,
   "metadata": {},
   "outputs": [
    {
     "data": {
      "text/plain": [
       "['Immediate opening For Data Scientist/Data Analyst',\n",
       " 'Data Analyst: Fresher’s with Data Analyst Certification.',\n",
       " 'Business Analyst and Data Analyst',\n",
       " 'Data Analyst']"
      ]
     },
     "execution_count": 7,
     "metadata": {},
     "output_type": "execute_result"
    }
   ],
   "source": [
    "for i in title_tags:\n",
    "    title=i.text\n",
    "    job_titles.append(title)\n",
    "job_titles[0:4]"
   ]
  },
  {
   "cell_type": "code",
   "execution_count": 8,
   "metadata": {},
   "outputs": [
    {
     "data": {
      "text/plain": [
       "[<selenium.webdriver.remote.webelement.WebElement (session=\"db2f234b381342c65d93252dd24d4268\", element=\"64924651-ea74-4444-8c34-b394be29720f\")>,\n",
       " <selenium.webdriver.remote.webelement.WebElement (session=\"db2f234b381342c65d93252dd24d4268\", element=\"35c87ee9-b9f4-461f-aada-11cfb2e61241\")>,\n",
       " <selenium.webdriver.remote.webelement.WebElement (session=\"db2f234b381342c65d93252dd24d4268\", element=\"bb633a96-836f-414c-8a5d-cbc4d9a92148\")>]"
      ]
     },
     "execution_count": 8,
     "metadata": {},
     "output_type": "execute_result"
    }
   ],
   "source": [
    "company_tags=driver.find_elements_by_xpath(\"//a[@class='subTitle ellipsis fleft']\")\n",
    "company_tags[0:3]"
   ]
  },
  {
   "cell_type": "code",
   "execution_count": 9,
   "metadata": {},
   "outputs": [
    {
     "data": {
      "text/plain": [
       "['CAIA-Center For Artificial Intelligence & Advanced Analytics',\n",
       " 'GDA Security pvt ltd',\n",
       " 'Tech Mahindra Ltd.',\n",
       " 'Hk solutions']"
      ]
     },
     "execution_count": 9,
     "metadata": {},
     "output_type": "execute_result"
    }
   ],
   "source": [
    "for i in company_tags:\n",
    "    company=i.text\n",
    "    company_names.append(company)\n",
    "company_names[0:4]"
   ]
  },
  {
   "cell_type": "code",
   "execution_count": 10,
   "metadata": {},
   "outputs": [
    {
     "data": {
      "text/plain": [
       "[<selenium.webdriver.remote.webelement.WebElement (session=\"db2f234b381342c65d93252dd24d4268\", element=\"aebba896-fd38-4105-b276-bc7be4300db0\")>,\n",
       " <selenium.webdriver.remote.webelement.WebElement (session=\"db2f234b381342c65d93252dd24d4268\", element=\"2c14d628-32e4-4cdd-b7ef-d6b1b8342460\")>,\n",
       " <selenium.webdriver.remote.webelement.WebElement (session=\"db2f234b381342c65d93252dd24d4268\", element=\"9dd74f17-eddc-452e-bf1b-5f2f55a0c4e5\")>]"
      ]
     },
     "execution_count": 10,
     "metadata": {},
     "output_type": "execute_result"
    }
   ],
   "source": [
    "location_tags=driver.find_elements_by_xpath(\"//ul[@class='mt-7']/li[3]/span[@class='ellipsis fleft fs12 lh16']\")\n",
    "location_tags[0:3]"
   ]
  },
  {
   "cell_type": "code",
   "execution_count": 11,
   "metadata": {},
   "outputs": [
    {
     "data": {
      "text/plain": [
       "['Chennai, Pune, Bengaluru, Hyderabad',\n",
       " 'Bengaluru',\n",
       " 'Delhi NCR, Bengaluru, Hyderabad',\n",
       " 'Chennai, Delhi NCR, Bengaluru']"
      ]
     },
     "execution_count": 11,
     "metadata": {},
     "output_type": "execute_result"
    }
   ],
   "source": [
    "for i in location_tags:\n",
    "    location=i.text\n",
    "    location_list.append(location)\n",
    "location_list[0:4]    "
   ]
  },
  {
   "cell_type": "code",
   "execution_count": 12,
   "metadata": {},
   "outputs": [
    {
     "data": {
      "text/plain": [
       "[<selenium.webdriver.remote.webelement.WebElement (session=\"db2f234b381342c65d93252dd24d4268\", element=\"537747d0-12b5-43e3-8f8a-38dcbe89eb76\")>,\n",
       " <selenium.webdriver.remote.webelement.WebElement (session=\"db2f234b381342c65d93252dd24d4268\", element=\"b47402d8-8d4f-4d64-9b8b-3c9c053c1132\")>,\n",
       " <selenium.webdriver.remote.webelement.WebElement (session=\"db2f234b381342c65d93252dd24d4268\", element=\"bbf02788-7c09-4de7-a95b-c8a39753e1e3\")>]"
      ]
     },
     "execution_count": 12,
     "metadata": {},
     "output_type": "execute_result"
    }
   ],
   "source": [
    "exp_tags=driver.find_elements_by_xpath(\"//ul[@class='mt-7']/li[1]/span[@class='ellipsis fleft fs12 lh16']\")\n",
    "exp_tags[0:3]"
   ]
  },
  {
   "cell_type": "code",
   "execution_count": 13,
   "metadata": {},
   "outputs": [
    {
     "data": {
      "text/plain": [
       "['0-3 Yrs', '0-0 Yrs', '7-12 Yrs', '0-3 Yrs']"
      ]
     },
     "execution_count": 13,
     "metadata": {},
     "output_type": "execute_result"
    }
   ],
   "source": [
    "for i in exp_tags:\n",
    "    experience=i.text\n",
    "    experience_list.append(experience)\n",
    "experience_list[0:4]"
   ]
  },
  {
   "cell_type": "code",
   "execution_count": 14,
   "metadata": {},
   "outputs": [
    {
     "name": "stdout",
     "output_type": "stream",
     "text": [
      "20 20 20 20\n"
     ]
    }
   ],
   "source": [
    "print(len(job_titles), len(company_names), len(location_list),len(experience_list))"
   ]
  },
  {
   "cell_type": "code",
   "execution_count": 15,
   "metadata": {},
   "outputs": [
    {
     "data": {
      "text/html": [
       "<div>\n",
       "<style scoped>\n",
       "    .dataframe tbody tr th:only-of-type {\n",
       "        vertical-align: middle;\n",
       "    }\n",
       "\n",
       "    .dataframe tbody tr th {\n",
       "        vertical-align: top;\n",
       "    }\n",
       "\n",
       "    .dataframe thead th {\n",
       "        text-align: right;\n",
       "    }\n",
       "</style>\n",
       "<table border=\"1\" class=\"dataframe\">\n",
       "  <thead>\n",
       "    <tr style=\"text-align: right;\">\n",
       "      <th></th>\n",
       "      <th>Title</th>\n",
       "      <th>Company</th>\n",
       "      <th>Location</th>\n",
       "      <th>Experience</th>\n",
       "    </tr>\n",
       "  </thead>\n",
       "  <tbody>\n",
       "    <tr>\n",
       "      <th>0</th>\n",
       "      <td>Immediate opening For Data Scientist/Data Analyst</td>\n",
       "      <td>CAIA-Center For Artificial Intelligence &amp; Adva...</td>\n",
       "      <td>Chennai, Pune, Bengaluru, Hyderabad</td>\n",
       "      <td>0-3 Yrs</td>\n",
       "    </tr>\n",
       "    <tr>\n",
       "      <th>1</th>\n",
       "      <td>Data Analyst: Fresher’s with Data Analyst Cert...</td>\n",
       "      <td>GDA Security pvt ltd</td>\n",
       "      <td>Bengaluru</td>\n",
       "      <td>0-0 Yrs</td>\n",
       "    </tr>\n",
       "    <tr>\n",
       "      <th>2</th>\n",
       "      <td>Business Analyst and Data Analyst</td>\n",
       "      <td>Tech Mahindra Ltd.</td>\n",
       "      <td>Delhi NCR, Bengaluru, Hyderabad</td>\n",
       "      <td>7-12 Yrs</td>\n",
       "    </tr>\n",
       "    <tr>\n",
       "      <th>3</th>\n",
       "      <td>Data Analyst</td>\n",
       "      <td>Hk solutions</td>\n",
       "      <td>Chennai, Delhi NCR, Bengaluru</td>\n",
       "      <td>0-3 Yrs</td>\n",
       "    </tr>\n",
       "    <tr>\n",
       "      <th>4</th>\n",
       "      <td>Intern - DFM Data Analyst</td>\n",
       "      <td>GLOBALFOUNDRIES Engineering Private Limited</td>\n",
       "      <td>Bengaluru</td>\n",
       "      <td>0-5 Yrs</td>\n",
       "    </tr>\n",
       "    <tr>\n",
       "      <th>5</th>\n",
       "      <td>Hiring Data Analysts on Contract Third party p...</td>\n",
       "      <td>Flipkart Internet Private Limited</td>\n",
       "      <td>Bengaluru</td>\n",
       "      <td>2-6 Yrs</td>\n",
       "    </tr>\n",
       "    <tr>\n",
       "      <th>6</th>\n",
       "      <td>Reliability Data Analyst</td>\n",
       "      <td>Alstom Transport India Ltd.</td>\n",
       "      <td>Bengaluru</td>\n",
       "      <td>3-8 Yrs</td>\n",
       "    </tr>\n",
       "    <tr>\n",
       "      <th>7</th>\n",
       "      <td>Data Analyst</td>\n",
       "      <td>Ladder of changes</td>\n",
       "      <td>Bengaluru</td>\n",
       "      <td>0-5 Yrs</td>\n",
       "    </tr>\n",
       "    <tr>\n",
       "      <th>8</th>\n",
       "      <td>Data Analyst / Business Analyst</td>\n",
       "      <td>Altisource</td>\n",
       "      <td>Bengaluru</td>\n",
       "      <td>1-6 Yrs</td>\n",
       "    </tr>\n",
       "    <tr>\n",
       "      <th>9</th>\n",
       "      <td>Data Analyst - MySQL/PostgreSQL</td>\n",
       "      <td>Astegic</td>\n",
       "      <td>Pune, Mumbai, Bengaluru, Hyderabad, Noida, Jaipur</td>\n",
       "      <td>5-10 Yrs</td>\n",
       "    </tr>\n",
       "    <tr>\n",
       "      <th>10</th>\n",
       "      <td>Hiring For Data Analyst RE) - Bangalore</td>\n",
       "      <td>TELEPERFORMANCE GLOBAL SERVICES</td>\n",
       "      <td>Bengaluru(Bellandur)</td>\n",
       "      <td>2-6 Yrs</td>\n",
       "    </tr>\n",
       "    <tr>\n",
       "      <th>11</th>\n",
       "      <td>Specialist I / II - Data Analyst</td>\n",
       "      <td>Philips India Limited</td>\n",
       "      <td>Bengaluru</td>\n",
       "      <td>5-7 Yrs</td>\n",
       "    </tr>\n",
       "    <tr>\n",
       "      <th>12</th>\n",
       "      <td>Procurement Data Analyst</td>\n",
       "      <td>Schneider Electric</td>\n",
       "      <td>Bengaluru</td>\n",
       "      <td>1-3 Yrs</td>\n",
       "    </tr>\n",
       "    <tr>\n",
       "      <th>13</th>\n",
       "      <td>Data Analyst Bangalore</td>\n",
       "      <td>SELCO Foundation</td>\n",
       "      <td>Bengaluru</td>\n",
       "      <td>5-8 Yrs</td>\n",
       "    </tr>\n",
       "    <tr>\n",
       "      <th>14</th>\n",
       "      <td>Junior Data Analyst</td>\n",
       "      <td>Cognizant Technology Solutions India Ltd</td>\n",
       "      <td>Bengaluru</td>\n",
       "      <td>1-2 Yrs</td>\n",
       "    </tr>\n",
       "    <tr>\n",
       "      <th>15</th>\n",
       "      <td>Data Analyst</td>\n",
       "      <td>IBM India Pvt. Limited</td>\n",
       "      <td>Bengaluru</td>\n",
       "      <td>5-10 Yrs</td>\n",
       "    </tr>\n",
       "    <tr>\n",
       "      <th>16</th>\n",
       "      <td>Product Manager - Data Scientist / Data Analyst</td>\n",
       "      <td>Fortune HR Consultant</td>\n",
       "      <td>Bengaluru</td>\n",
       "      <td>3-8 Yrs</td>\n",
       "    </tr>\n",
       "    <tr>\n",
       "      <th>17</th>\n",
       "      <td>Data Analyst - 3</td>\n",
       "      <td>Varite</td>\n",
       "      <td>Bengaluru</td>\n",
       "      <td>5-9 Yrs</td>\n",
       "    </tr>\n",
       "    <tr>\n",
       "      <th>18</th>\n",
       "      <td>Data Analyst</td>\n",
       "      <td>Snaphunt</td>\n",
       "      <td>Bengaluru</td>\n",
       "      <td>3-5 Yrs</td>\n",
       "    </tr>\n",
       "    <tr>\n",
       "      <th>19</th>\n",
       "      <td>Data Analyst</td>\n",
       "      <td>Simplify360</td>\n",
       "      <td>Bengaluru</td>\n",
       "      <td>4-5 Yrs</td>\n",
       "    </tr>\n",
       "  </tbody>\n",
       "</table>\n",
       "</div>"
      ],
      "text/plain": [
       "                                                Title  \\\n",
       "0   Immediate opening For Data Scientist/Data Analyst   \n",
       "1   Data Analyst: Fresher’s with Data Analyst Cert...   \n",
       "2                   Business Analyst and Data Analyst   \n",
       "3                                        Data Analyst   \n",
       "4                           Intern - DFM Data Analyst   \n",
       "5   Hiring Data Analysts on Contract Third party p...   \n",
       "6                            Reliability Data Analyst   \n",
       "7                                        Data Analyst   \n",
       "8                     Data Analyst / Business Analyst   \n",
       "9                     Data Analyst - MySQL/PostgreSQL   \n",
       "10            Hiring For Data Analyst RE) - Bangalore   \n",
       "11                   Specialist I / II - Data Analyst   \n",
       "12                           Procurement Data Analyst   \n",
       "13                             Data Analyst Bangalore   \n",
       "14                                Junior Data Analyst   \n",
       "15                                       Data Analyst   \n",
       "16    Product Manager - Data Scientist / Data Analyst   \n",
       "17                                   Data Analyst - 3   \n",
       "18                                       Data Analyst   \n",
       "19                                       Data Analyst   \n",
       "\n",
       "                                              Company  \\\n",
       "0   CAIA-Center For Artificial Intelligence & Adva...   \n",
       "1                                GDA Security pvt ltd   \n",
       "2                                  Tech Mahindra Ltd.   \n",
       "3                                        Hk solutions   \n",
       "4         GLOBALFOUNDRIES Engineering Private Limited   \n",
       "5                   Flipkart Internet Private Limited   \n",
       "6                         Alstom Transport India Ltd.   \n",
       "7                                   Ladder of changes   \n",
       "8                                          Altisource   \n",
       "9                                             Astegic   \n",
       "10                    TELEPERFORMANCE GLOBAL SERVICES   \n",
       "11                              Philips India Limited   \n",
       "12                                 Schneider Electric   \n",
       "13                                   SELCO Foundation   \n",
       "14           Cognizant Technology Solutions India Ltd   \n",
       "15                             IBM India Pvt. Limited   \n",
       "16                              Fortune HR Consultant   \n",
       "17                                             Varite   \n",
       "18                                           Snaphunt   \n",
       "19                                        Simplify360   \n",
       "\n",
       "                                             Location Experience  \n",
       "0                 Chennai, Pune, Bengaluru, Hyderabad    0-3 Yrs  \n",
       "1                                           Bengaluru    0-0 Yrs  \n",
       "2                     Delhi NCR, Bengaluru, Hyderabad   7-12 Yrs  \n",
       "3                       Chennai, Delhi NCR, Bengaluru    0-3 Yrs  \n",
       "4                                           Bengaluru    0-5 Yrs  \n",
       "5                                           Bengaluru    2-6 Yrs  \n",
       "6                                           Bengaluru    3-8 Yrs  \n",
       "7                                           Bengaluru    0-5 Yrs  \n",
       "8                                           Bengaluru    1-6 Yrs  \n",
       "9   Pune, Mumbai, Bengaluru, Hyderabad, Noida, Jaipur   5-10 Yrs  \n",
       "10                               Bengaluru(Bellandur)    2-6 Yrs  \n",
       "11                                          Bengaluru    5-7 Yrs  \n",
       "12                                          Bengaluru    1-3 Yrs  \n",
       "13                                          Bengaluru    5-8 Yrs  \n",
       "14                                          Bengaluru    1-2 Yrs  \n",
       "15                                          Bengaluru   5-10 Yrs  \n",
       "16                                          Bengaluru    3-8 Yrs  \n",
       "17                                          Bengaluru    5-9 Yrs  \n",
       "18                                          Bengaluru    3-5 Yrs  \n",
       "19                                          Bengaluru    4-5 Yrs  "
      ]
     },
     "execution_count": 15,
     "metadata": {},
     "output_type": "execute_result"
    }
   ],
   "source": [
    "import pandas as pd\n",
    "jobs=pd.DataFrame({})\n",
    "jobs['Title']=job_titles\n",
    "jobs['Company']=company_names\n",
    "jobs['Location']=location_list\n",
    "jobs['Experience']=experience_list\n",
    "jobs"
   ]
  },
  {
   "cell_type": "markdown",
   "metadata": {},
   "source": [
    "# Q2"
   ]
  },
  {
   "cell_type": "code",
   "execution_count": null,
   "metadata": {},
   "outputs": [],
   "source": []
  }
 ],
 "metadata": {
  "kernelspec": {
   "display_name": "Python 3",
   "language": "python",
   "name": "python3"
  },
  "language_info": {
   "codemirror_mode": {
    "name": "ipython",
    "version": 3
   },
   "file_extension": ".py",
   "mimetype": "text/x-python",
   "name": "python",
   "nbconvert_exporter": "python",
   "pygments_lexer": "ipython3",
   "version": "3.7.6"
  }
 },
 "nbformat": 4,
 "nbformat_minor": 4
}
